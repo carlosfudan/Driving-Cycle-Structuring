{
 "cells": [
  {
   "cell_type": "code",
   "execution_count": 1,
   "metadata": {},
   "outputs": [],
   "source": [
    "#coding: UTF-8\n",
    "import pandas as pd"
   ]
  },
  {
   "cell_type": "code",
   "execution_count": 3,
   "metadata": {},
   "outputs": [],
   "source": [
    "def judge_time(time_on,time_down):\n",
    "  if (time_on+5) > time_down:\n",
    "    return True\n",
    "  else:\n",
    "    return False"
   ]
  },
  {
   "cell_type": "code",
   "execution_count": 14,
   "metadata": {},
   "outputs": [],
   "source": [
    "# 运动学片段提取\n",
    "def problem1(df):\n",
    "    time_list = list(df['时间'].values)\n",
    "    speed_list = list(df['GPS车速'].values)\n",
    "    i_start = 0\n",
    "    i_end = 0\n",
    "    loc_list = []\n",
    "    temp_an = 0\n",
    "\n",
    "    while temp_an < (len(time_list)-1):\n",
    "      while speed_list[temp_an] == 0 and temp_an < (len(time_list)-1):\n",
    "        temp_an+=1\n",
    "      if speed_list[temp_an-1] == 0:\n",
    "        i_start = temp_an\n",
    "        time_on = time_list[temp_an-1]\n",
    "        time_down = time_list[temp_an]\n",
    "        while speed_list[temp_an]!=0 and judge_time(time_on,time_down)==True and temp_an < (len(time_list)-1):\n",
    "          time_on = time_list[temp_an]\n",
    "          time_on = time_list[temp_an+1]\n",
    "          temp_an+=1\n",
    "        if speed_list[temp_an-1]!=0 and speed_list[temp_an]==0:\n",
    "          i_end = temp_an\n",
    "          loc_list.append([i_start,i_end])\n",
    "      temp_an+=1\n",
    "\n",
    "    total = 0\n",
    "    for loc in loc_list:\n",
    "        total+=(loc[1]-loc[0])\n",
    "\n",
    "    print(total)\n",
    "    return loc_list"
   ]
  },
  {
   "cell_type": "code",
   "execution_count": 15,
   "metadata": {},
   "outputs": [],
   "source": [
    "file1 = pd.read_csv('process_carlosfile1.csv')\n",
    "file2 = pd.read_csv('process_carlosfile2.csv')\n",
    "file3 = pd.read_csv('process_carlosfile3.csv')"
   ]
  },
  {
   "cell_type": "code",
   "execution_count": 17,
   "metadata": {},
   "outputs": [
    {
     "name": "stdout",
     "output_type": "stream",
     "text": [
      "58259\n",
      "43022\n",
      "53109\n"
     ]
    },
    {
     "data": {
      "text/plain": [
       "(1274, 1177, 1005)"
      ]
     },
     "execution_count": 17,
     "metadata": {},
     "output_type": "execute_result"
    }
   ],
   "source": [
    "len(problem1(file1)), len(problem1(file2)), len(problem1(file3))"
   ]
  },
  {
   "cell_type": "code",
   "execution_count": null,
   "metadata": {},
   "outputs": [],
   "source": []
  }
 ],
 "metadata": {
  "kernelspec": {
   "display_name": "Python 3",
   "language": "python",
   "name": "python3"
  },
  "language_info": {
   "codemirror_mode": {
    "name": "ipython",
    "version": 3
   },
   "file_extension": ".py",
   "mimetype": "text/x-python",
   "name": "python",
   "nbconvert_exporter": "python",
   "pygments_lexer": "ipython3",
   "version": "3.6.9"
  }
 },
 "nbformat": 4,
 "nbformat_minor": 2
}
