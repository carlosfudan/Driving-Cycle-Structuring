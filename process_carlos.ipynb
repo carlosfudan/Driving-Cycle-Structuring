{
 "cells": [
  {
   "cell_type": "code",
   "execution_count": 1,
   "metadata": {},
   "outputs": [],
   "source": [
    "# -*- coding:utf-8 -*-\n",
    "import gc\n",
    "import os\n",
    "import numpy as np\n",
    "import pandas as pd\n",
    "# import subprocess\n",
    "# import seaborn as sns\n",
    "# import matplotlib.pyplot as plt"
   ]
  },
  {
   "cell_type": "code",
   "execution_count": 2,
   "metadata": {},
   "outputs": [],
   "source": [
    "# 将日期格式字符串转化为int型时间戳\n",
    "def time_convert(data):\n",
    "    for i in range(len(data['时间'])):\n",
    "        date = data['时间'].iloc[i]\n",
    "        date = date[0:19]\n",
    "        timeArray = time.strptime(date, \"%Y/%m/%d %H:%M:%S\")\n",
    "        timeStamp = int(time.mktime(timeArray))\n",
    "        data.iloc[i, 0] = timeStamp\n",
    "    return data"
   ]
  },
  {
   "cell_type": "code",
   "execution_count": 4,
   "metadata": {},
   "outputs": [],
   "source": [
    "for file_path in ['file1.xlsx', 'file2.xlsx', 'file3.xlsx']:\n",
    "    file = pd.read_excel(file_path)\n",
    "    file = time_convert(file)\n",
    "    file.to_csv(file_path[;,-5] + '.csv')"
   ]
  },
  {
   "cell_type": "code",
   "execution_count": 5,
   "metadata": {},
   "outputs": [],
   "source": [
    "# 删除0-100km/h加速时间小于7s的数据\n",
    "def problem2(data):\n",
    "    tag = []\n",
    "    for i in range(len(data['GPS车速'])-7):\n",
    "        if data['时间'].iloc[i+7] == data['时间'].iloc[i] + 7 and data['GPS车速'].iloc[i+7] - data['GPS车速'].iloc[i] > 100 and data['GPS车速'].iloc[i] == 0:\n",
    "            for j in range(8):\n",
    "                tag.append(i+j)\n",
    "    data = data.drop(tag, axis=0)\n",
    "    data = data.reset_index()\n",
    "    data = data.drop('index', 1)\n",
    "    return data"
   ]
  },
  {
   "cell_type": "code",
   "execution_count": 6,
   "metadata": {},
   "outputs": [],
   "source": [
    "# 删除刹车最大减速度在[7.5, 8]区间外的数据\n",
    "def problem3(data):\n",
    "    v = data['GPS车速']\n",
    "    tag = []\n",
    "    for i in range(len(v)-1):\n",
    "        if (data['时间'].iloc[i+1] == data['时间'].iloc[i] + 1)and (v.iloc[i] - v.iloc[i+1] > 0) and (v.iloc[i] - v.iloc[i+1] > 7.5 or v.iloc[i] - v.iloc[i+1] < 8.0):\n",
    "            tag.append(i)\n",
    "            tag.append(i+1)\n",
    "    data = data.drop(tag, axis=0)\n",
    "    data = data.reset_index()\n",
    "    data = data.drop('index', 1)\n",
    "    return data"
   ]
  },
  {
   "cell_type": "code",
   "execution_count": 7,
   "metadata": {},
   "outputs": [],
   "source": [
    "# 删除停车熄火但采集设备仍在运行采集的异常数据\n",
    "# 处理出现怠速时间超过8s的异常情况\n",
    "def problem4(data):\n",
    "    data = data[data['发动机转速'] != 0]\n",
    "    v = data['GPS车速']\n",
    "    cnt = 0\n",
    "    tag = []\n",
    "    for i in range(len(v)):\n",
    "        if cnt > 180:\n",
    "            tag.append(i)\n",
    "        if v.iloc[i] == 0:\n",
    "            cnt += 1\n",
    "        else:\n",
    "            cnt = 0\n",
    "    data = data.drop(tag, axis=0)\n",
    "    data = data.reset_index()\n",
    "    data = data.drop('index', 1)\n",
    "    return data"
   ]
  },
  {
   "cell_type": "code",
   "execution_count": 8,
   "metadata": {},
   "outputs": [],
   "source": [
    "# 对数据进行预处理\n",
    "def process(path):\n",
    "    file = pd.read_csv(path)\n",
    "    file = file.drop('Unnamed: 0', 1)\n",
    "    file = problem2(file)\n",
    "    file = problem3(file)\n",
    "    file = problem4(file)\n",
    "    return file"
   ]
  },
  {
   "cell_type": "code",
   "execution_count": 9,
   "metadata": {},
   "outputs": [],
   "source": [
    "for file_path in ['file1.csv', 'file2.csv', 'file3.csv']:\n",
    "    process(file_path).to_csv('process_carlos' + file_path)\n",
    "# for file_path in ['file2.csv', 'file3.csv']:\n",
    "#     process(file_path).to_csv('process_carlos' + file_path)"
   ]
  },
  {
   "cell_type": "code",
   "execution_count": 10,
   "metadata": {},
   "outputs": [],
   "source": [
    "file1 = pd.read_csv('process_carlosfile1.csv')\n",
    "file2 = pd.read_csv('process_carlosfile2.csv')\n",
    "file3 = pd.read_csv('process_carlosfile3.csv')"
   ]
  },
  {
   "cell_type": "code",
   "execution_count": null,
   "metadata": {},
   "outputs": [],
   "source": []
  }
 ],
 "metadata": {
  "kernelspec": {
   "display_name": "Python 3",
   "language": "python",
   "name": "python3"
  },
  "language_info": {
   "codemirror_mode": {
    "name": "ipython",
    "version": 3
   },
   "file_extension": ".py",
   "mimetype": "text/x-python",
   "name": "python",
   "nbconvert_exporter": "python",
   "pygments_lexer": "ipython3",
   "version": "3.6.9"
  }
 },
 "nbformat": 4,
 "nbformat_minor": 2
}
